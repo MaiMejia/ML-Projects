{
  "nbformat": 4,
  "nbformat_minor": 0,
  "metadata": {
    "colab": {
      "provenance": [],
      "collapsed_sections": [
        "R4ZRAxe1zeDK",
        "bMPFIQ_CpQj2",
        "zLgog0MPrWXf",
        "g3zZ1ZNnkzI-",
        "ASLIewbBP-C0"
      ],
      "authorship_tag": "ABX9TyOWI0BL1HOM0hxa1BgYz6RJ",
      "include_colab_link": true
    },
    "kernelspec": {
      "name": "python3",
      "display_name": "Python 3"
    },
    "language_info": {
      "name": "python"
    }
  },
  "cells": [
    {
      "cell_type": "markdown",
      "metadata": {
        "id": "view-in-github",
        "colab_type": "text"
      },
      "source": [
        "<a href=\"https://colab.research.google.com/github/MaiMejia/ML-Projects/blob/main/CustomerSatisfaction.ipynb\" target=\"_parent\"><img src=\"https://colab.research.google.com/assets/colab-badge.svg\" alt=\"Open In Colab\"/></a>"
      ]
    },
    {
      "cell_type": "markdown",
      "source": [],
      "metadata": {
        "id": "0MiiE94FwEKZ"
      }
    },
    {
      "cell_type": "markdown",
      "source": [
        "## <b>Delivery Services - Predicting Customer Satisfaction</b>"
      ],
      "metadata": {
        "id": "tU543lgUraQu"
      }
    },
    {
      "cell_type": "markdown",
      "source": [
        "1.  <a href=\"#Context\">Context</a>\n",
        "2.  <a href=\"#Previewing the Dataset\">Previewing the Dataset</a>\n",
        "1.  <a href=\"#Exploratory Data Analysis\">Exploratory Data Analysis</a>\n",
        "    * <a href=\"#a) Univariate\"> a) Univariate</a>\n",
        "    * <a href=\"#b) Multivariate\"> b) Multivariate</a>\n",
        "2.  <a href=\"#Model Building\">Model Building</a>\n",
        "    *   <a href=\"#a) Train-Test Data\"> a) Train-Test Data</a>\n",
        "    *   <a href=\"#b) Selecting the Best Approach\"> b) Selecting the Best Approach</a>\n",
        "    * <a href=\"#c) Evaluating the model\"> c) Evaluating the model</a>\n",
        "    * <a href=\"#d) Improving the Selected Model\"> d) Improving the Selected Model</a>\n",
        "    * <a href=\"#e) Evaluating Predicted Values\"> e) Evaluating Predicted Values</a>\n",
        "    * <a href=\"#f) Saving Predicted Values\"> f) Saving Predicted Values</a>\n",
        "1.  <a href=\"#Final Remarks\">Final Remarks</a>\n"
      ],
      "metadata": {
        "id": "kxpNjw38zWDr"
      }
    },
    {
      "cell_type": "markdown",
      "source": [
        "<a name=\"Context\"></a>\n",
        "#### <b>1. Context</b>\n",
        "----------------------------------------------------------------------\n",
        "One of the fastest growing startups in the logistics and delivery domain has been struggling on keeping their customers happy with their services. After several attempts to understand areas of improvement, they keep facing challenges.<br>\n",
        "Therefore, they have decided to leverage the ML & AI capabilities to gain a deep understanding of this persistent challenge. <br>\n",
        "\n",
        "**Goal:** Predict wether customers are satisfied or dissatisfied with the delivery services."
      ],
      "metadata": {
        "id": "R4ZRAxe1zeDK"
      }
    },
    {
      "cell_type": "markdown",
      "source": [
        "**Data** <br>\n",
        "Getting feedback from customers is not an easy task, but the company have tried to get constant customers feedback. The customers' input is crucial to gain deeper understanding of their operations across all levels. Therefore, they did a survey to a select customer cohort. <br>Here is a subset of this data.\n",
        "\n",
        "**Data Description:** <br>\n",
        "Y = target attribute (Y) with values indicating 0 (unhappy) and 1 (happy) customers<br>\n",
        "X1 = my order was delivered on time<br>\n",
        "X2 = contents of my order was as I expected<br>\n",
        "X3 = I ordered everything I wanted to order<br>\n",
        "X4 = I paid a good price for my order<br>\n",
        "X5 = I am satisfied with my courier<br>\n",
        "X6 = the app makes ordering easy for me<br>\n",
        "\n",
        " Attributes X1 to X6 indicate the responses for each question and have values from 1 to 5 where the smaller number indicates less and the higher number indicates more towards the answer."
      ],
      "metadata": {
        "id": "mH1Zha-cAusl"
      }
    },
    {
      "cell_type": "code",
      "source": [
        "from google.colab import drive\n",
        "drive.mount('/content/drive')"
      ],
      "metadata": {
        "colab": {
          "base_uri": "https://localhost:8080/"
        },
        "id": "25yijohjI9fL",
        "outputId": "a99e95f1-0a64-410d-8c7b-efb802333d30"
      },
      "execution_count": null,
      "outputs": [
        {
          "output_type": "stream",
          "name": "stdout",
          "text": [
            "Mounted at /content/drive\n"
          ]
        }
      ]
    },
    {
      "cell_type": "code",
      "source": [
        "#Installing libraries\n",
        "!pip install hyperopt xgboost scikit-learn matplotlib seaborn scikit-learn"
      ],
      "metadata": {
        "colab": {
          "base_uri": "https://localhost:8080/"
        },
        "collapsed": true,
        "id": "4lF_AQMWkivk",
        "outputId": "963f0956-7b8f-4782-aba2-ef2c8f7fda84"
      },
      "execution_count": null,
      "outputs": [
        {
          "output_type": "stream",
          "name": "stdout",
          "text": [
            "Requirement already satisfied: hyperopt in /usr/local/lib/python3.11/dist-packages (0.2.7)\n",
            "Requirement already satisfied: xgboost in /usr/local/lib/python3.11/dist-packages (2.1.4)\n",
            "Requirement already satisfied: scikit-learn in /usr/local/lib/python3.11/dist-packages (1.6.1)\n",
            "Requirement already satisfied: matplotlib in /usr/local/lib/python3.11/dist-packages (3.10.0)\n",
            "Requirement already satisfied: seaborn in /usr/local/lib/python3.11/dist-packages (0.13.2)\n",
            "Requirement already satisfied: numpy in /usr/local/lib/python3.11/dist-packages (from hyperopt) (2.0.2)\n",
            "Requirement already satisfied: scipy in /usr/local/lib/python3.11/dist-packages (from hyperopt) (1.15.3)\n",
            "Requirement already satisfied: six in /usr/local/lib/python3.11/dist-packages (from hyperopt) (1.17.0)\n",
            "Requirement already satisfied: networkx>=2.2 in /usr/local/lib/python3.11/dist-packages (from hyperopt) (3.5)\n",
            "Requirement already satisfied: future in /usr/local/lib/python3.11/dist-packages (from hyperopt) (1.0.0)\n",
            "Requirement already satisfied: tqdm in /usr/local/lib/python3.11/dist-packages (from hyperopt) (4.67.1)\n",
            "Requirement already satisfied: cloudpickle in /usr/local/lib/python3.11/dist-packages (from hyperopt) (3.1.1)\n",
            "Requirement already satisfied: py4j in /usr/local/lib/python3.11/dist-packages (from hyperopt) (0.10.9.7)\n",
            "Requirement already satisfied: nvidia-nccl-cu12 in /usr/local/lib/python3.11/dist-packages (from xgboost) (2.21.5)\n",
            "Requirement already satisfied: joblib>=1.2.0 in /usr/local/lib/python3.11/dist-packages (from scikit-learn) (1.5.1)\n",
            "Requirement already satisfied: threadpoolctl>=3.1.0 in /usr/local/lib/python3.11/dist-packages (from scikit-learn) (3.6.0)\n",
            "Requirement already satisfied: contourpy>=1.0.1 in /usr/local/lib/python3.11/dist-packages (from matplotlib) (1.3.2)\n",
            "Requirement already satisfied: cycler>=0.10 in /usr/local/lib/python3.11/dist-packages (from matplotlib) (0.12.1)\n",
            "Requirement already satisfied: fonttools>=4.22.0 in /usr/local/lib/python3.11/dist-packages (from matplotlib) (4.58.4)\n",
            "Requirement already satisfied: kiwisolver>=1.3.1 in /usr/local/lib/python3.11/dist-packages (from matplotlib) (1.4.8)\n",
            "Requirement already satisfied: packaging>=20.0 in /usr/local/lib/python3.11/dist-packages (from matplotlib) (24.2)\n",
            "Requirement already satisfied: pillow>=8 in /usr/local/lib/python3.11/dist-packages (from matplotlib) (11.2.1)\n",
            "Requirement already satisfied: pyparsing>=2.3.1 in /usr/local/lib/python3.11/dist-packages (from matplotlib) (3.2.3)\n",
            "Requirement already satisfied: python-dateutil>=2.7 in /usr/local/lib/python3.11/dist-packages (from matplotlib) (2.9.0.post0)\n",
            "Requirement already satisfied: pandas>=1.2 in /usr/local/lib/python3.11/dist-packages (from seaborn) (2.2.2)\n",
            "Requirement already satisfied: pytz>=2020.1 in /usr/local/lib/python3.11/dist-packages (from pandas>=1.2->seaborn) (2025.2)\n",
            "Requirement already satisfied: tzdata>=2022.7 in /usr/local/lib/python3.11/dist-packages (from pandas>=1.2->seaborn) (2025.2)\n"
          ]
        }
      ]
    },
    {
      "cell_type": "code",
      "execution_count": null,
      "metadata": {
        "id": "yDeMIB14rYuF"
      },
      "outputs": [],
      "source": [
        "# Importing libraries\n",
        "import pandas as pd\n",
        "import numpy as np\n",
        "import matplotlib.pyplot as plt\n",
        "import seaborn as sns\n",
        "\n",
        "# Model building libraries\n",
        "from sklearn.model_selection import train_test_split, GridSearchCV, RandomizedSearchCV\n",
        "from sklearn.metrics import accuracy_score, precision_score, recall_score, classification_report, confusion_matrix, ConfusionMatrixDisplay\n",
        "from sklearn.tree import DecisionTreeClassifier\n",
        "from sklearn.ensemble import RandomForestClassifier, BaggingClassifier, GradientBoostingClassifier, AdaBoostClassifier\n",
        "from xgboost import XGBClassifier\n",
        "from sklearn.linear_model import LogisticRegression\n",
        "from sklearn.svm import LinearSVC\n",
        "from sklearn.feature_selection import SelectFromModel, f_classif\n",
        "from sklearn.pipeline import Pipeline\n",
        "\n",
        "import warnings\n",
        "warnings.filterwarnings('ignore')"
      ]
    },
    {
      "cell_type": "code",
      "source": [
        "data = pd.read_csv('/content/drive/MyDrive/survey2020.csv')\n",
        "data.head(5)"
      ],
      "metadata": {
        "colab": {
          "base_uri": "https://localhost:8080/",
          "height": 206
        },
        "collapsed": true,
        "id": "djO3BhJdYfuy",
        "outputId": "03f4b9f1-99cb-4bb7-88ba-00f84f7df469"
      },
      "execution_count": null,
      "outputs": [
        {
          "output_type": "execute_result",
          "data": {
            "text/plain": [
              "   Y  X1  X2  X3  X4  X5  X6\n",
              "0  0   3   3   3   4   2   4\n",
              "1  0   3   2   3   5   4   3\n",
              "2  1   5   3   3   3   3   5\n",
              "3  0   5   4   3   3   3   5\n",
              "4  0   5   4   3   3   3   5"
            ],
            "text/html": [
              "\n",
              "  <div id=\"df-20107592-6c70-41f9-b3f9-25f46596bb67\" class=\"colab-df-container\">\n",
              "    <div>\n",
              "<style scoped>\n",
              "    .dataframe tbody tr th:only-of-type {\n",
              "        vertical-align: middle;\n",
              "    }\n",
              "\n",
              "    .dataframe tbody tr th {\n",
              "        vertical-align: top;\n",
              "    }\n",
              "\n",
              "    .dataframe thead th {\n",
              "        text-align: right;\n",
              "    }\n",
              "</style>\n",
              "<table border=\"1\" class=\"dataframe\">\n",
              "  <thead>\n",
              "    <tr style=\"text-align: right;\">\n",
              "      <th></th>\n",
              "      <th>Y</th>\n",
              "      <th>X1</th>\n",
              "      <th>X2</th>\n",
              "      <th>X3</th>\n",
              "      <th>X4</th>\n",
              "      <th>X5</th>\n",
              "      <th>X6</th>\n",
              "    </tr>\n",
              "  </thead>\n",
              "  <tbody>\n",
              "    <tr>\n",
              "      <th>0</th>\n",
              "      <td>0</td>\n",
              "      <td>3</td>\n",
              "      <td>3</td>\n",
              "      <td>3</td>\n",
              "      <td>4</td>\n",
              "      <td>2</td>\n",
              "      <td>4</td>\n",
              "    </tr>\n",
              "    <tr>\n",
              "      <th>1</th>\n",
              "      <td>0</td>\n",
              "      <td>3</td>\n",
              "      <td>2</td>\n",
              "      <td>3</td>\n",
              "      <td>5</td>\n",
              "      <td>4</td>\n",
              "      <td>3</td>\n",
              "    </tr>\n",
              "    <tr>\n",
              "      <th>2</th>\n",
              "      <td>1</td>\n",
              "      <td>5</td>\n",
              "      <td>3</td>\n",
              "      <td>3</td>\n",
              "      <td>3</td>\n",
              "      <td>3</td>\n",
              "      <td>5</td>\n",
              "    </tr>\n",
              "    <tr>\n",
              "      <th>3</th>\n",
              "      <td>0</td>\n",
              "      <td>5</td>\n",
              "      <td>4</td>\n",
              "      <td>3</td>\n",
              "      <td>3</td>\n",
              "      <td>3</td>\n",
              "      <td>5</td>\n",
              "    </tr>\n",
              "    <tr>\n",
              "      <th>4</th>\n",
              "      <td>0</td>\n",
              "      <td>5</td>\n",
              "      <td>4</td>\n",
              "      <td>3</td>\n",
              "      <td>3</td>\n",
              "      <td>3</td>\n",
              "      <td>5</td>\n",
              "    </tr>\n",
              "  </tbody>\n",
              "</table>\n",
              "</div>\n",
              "    <div class=\"colab-df-buttons\">\n",
              "\n",
              "  <div class=\"colab-df-container\">\n",
              "    <button class=\"colab-df-convert\" onclick=\"convertToInteractive('df-20107592-6c70-41f9-b3f9-25f46596bb67')\"\n",
              "            title=\"Convert this dataframe to an interactive table.\"\n",
              "            style=\"display:none;\">\n",
              "\n",
              "  <svg xmlns=\"http://www.w3.org/2000/svg\" height=\"24px\" viewBox=\"0 -960 960 960\">\n",
              "    <path d=\"M120-120v-720h720v720H120Zm60-500h600v-160H180v160Zm220 220h160v-160H400v160Zm0 220h160v-160H400v160ZM180-400h160v-160H180v160Zm440 0h160v-160H620v160ZM180-180h160v-160H180v160Zm440 0h160v-160H620v160Z\"/>\n",
              "  </svg>\n",
              "    </button>\n",
              "\n",
              "  <style>\n",
              "    .colab-df-container {\n",
              "      display:flex;\n",
              "      gap: 12px;\n",
              "    }\n",
              "\n",
              "    .colab-df-convert {\n",
              "      background-color: #E8F0FE;\n",
              "      border: none;\n",
              "      border-radius: 50%;\n",
              "      cursor: pointer;\n",
              "      display: none;\n",
              "      fill: #1967D2;\n",
              "      height: 32px;\n",
              "      padding: 0 0 0 0;\n",
              "      width: 32px;\n",
              "    }\n",
              "\n",
              "    .colab-df-convert:hover {\n",
              "      background-color: #E2EBFA;\n",
              "      box-shadow: 0px 1px 2px rgba(60, 64, 67, 0.3), 0px 1px 3px 1px rgba(60, 64, 67, 0.15);\n",
              "      fill: #174EA6;\n",
              "    }\n",
              "\n",
              "    .colab-df-buttons div {\n",
              "      margin-bottom: 4px;\n",
              "    }\n",
              "\n",
              "    [theme=dark] .colab-df-convert {\n",
              "      background-color: #3B4455;\n",
              "      fill: #D2E3FC;\n",
              "    }\n",
              "\n",
              "    [theme=dark] .colab-df-convert:hover {\n",
              "      background-color: #434B5C;\n",
              "      box-shadow: 0px 1px 3px 1px rgba(0, 0, 0, 0.15);\n",
              "      filter: drop-shadow(0px 1px 2px rgba(0, 0, 0, 0.3));\n",
              "      fill: #FFFFFF;\n",
              "    }\n",
              "  </style>\n",
              "\n",
              "    <script>\n",
              "      const buttonEl =\n",
              "        document.querySelector('#df-20107592-6c70-41f9-b3f9-25f46596bb67 button.colab-df-convert');\n",
              "      buttonEl.style.display =\n",
              "        google.colab.kernel.accessAllowed ? 'block' : 'none';\n",
              "\n",
              "      async function convertToInteractive(key) {\n",
              "        const element = document.querySelector('#df-20107592-6c70-41f9-b3f9-25f46596bb67');\n",
              "        const dataTable =\n",
              "          await google.colab.kernel.invokeFunction('convertToInteractive',\n",
              "                                                    [key], {});\n",
              "        if (!dataTable) return;\n",
              "\n",
              "        const docLinkHtml = 'Like what you see? Visit the ' +\n",
              "          '<a target=\"_blank\" href=https://colab.research.google.com/notebooks/data_table.ipynb>data table notebook</a>'\n",
              "          + ' to learn more about interactive tables.';\n",
              "        element.innerHTML = '';\n",
              "        dataTable['output_type'] = 'display_data';\n",
              "        await google.colab.output.renderOutput(dataTable, element);\n",
              "        const docLink = document.createElement('div');\n",
              "        docLink.innerHTML = docLinkHtml;\n",
              "        element.appendChild(docLink);\n",
              "      }\n",
              "    </script>\n",
              "  </div>\n",
              "\n",
              "\n",
              "    <div id=\"df-6566590e-07b5-4c0f-83ea-9958491fcade\">\n",
              "      <button class=\"colab-df-quickchart\" onclick=\"quickchart('df-6566590e-07b5-4c0f-83ea-9958491fcade')\"\n",
              "                title=\"Suggest charts\"\n",
              "                style=\"display:none;\">\n",
              "\n",
              "<svg xmlns=\"http://www.w3.org/2000/svg\" height=\"24px\"viewBox=\"0 0 24 24\"\n",
              "     width=\"24px\">\n",
              "    <g>\n",
              "        <path d=\"M19 3H5c-1.1 0-2 .9-2 2v14c0 1.1.9 2 2 2h14c1.1 0 2-.9 2-2V5c0-1.1-.9-2-2-2zM9 17H7v-7h2v7zm4 0h-2V7h2v10zm4 0h-2v-4h2v4z\"/>\n",
              "    </g>\n",
              "</svg>\n",
              "      </button>\n",
              "\n",
              "<style>\n",
              "  .colab-df-quickchart {\n",
              "      --bg-color: #E8F0FE;\n",
              "      --fill-color: #1967D2;\n",
              "      --hover-bg-color: #E2EBFA;\n",
              "      --hover-fill-color: #174EA6;\n",
              "      --disabled-fill-color: #AAA;\n",
              "      --disabled-bg-color: #DDD;\n",
              "  }\n",
              "\n",
              "  [theme=dark] .colab-df-quickchart {\n",
              "      --bg-color: #3B4455;\n",
              "      --fill-color: #D2E3FC;\n",
              "      --hover-bg-color: #434B5C;\n",
              "      --hover-fill-color: #FFFFFF;\n",
              "      --disabled-bg-color: #3B4455;\n",
              "      --disabled-fill-color: #666;\n",
              "  }\n",
              "\n",
              "  .colab-df-quickchart {\n",
              "    background-color: var(--bg-color);\n",
              "    border: none;\n",
              "    border-radius: 50%;\n",
              "    cursor: pointer;\n",
              "    display: none;\n",
              "    fill: var(--fill-color);\n",
              "    height: 32px;\n",
              "    padding: 0;\n",
              "    width: 32px;\n",
              "  }\n",
              "\n",
              "  .colab-df-quickchart:hover {\n",
              "    background-color: var(--hover-bg-color);\n",
              "    box-shadow: 0 1px 2px rgba(60, 64, 67, 0.3), 0 1px 3px 1px rgba(60, 64, 67, 0.15);\n",
              "    fill: var(--button-hover-fill-color);\n",
              "  }\n",
              "\n",
              "  .colab-df-quickchart-complete:disabled,\n",
              "  .colab-df-quickchart-complete:disabled:hover {\n",
              "    background-color: var(--disabled-bg-color);\n",
              "    fill: var(--disabled-fill-color);\n",
              "    box-shadow: none;\n",
              "  }\n",
              "\n",
              "  .colab-df-spinner {\n",
              "    border: 2px solid var(--fill-color);\n",
              "    border-color: transparent;\n",
              "    border-bottom-color: var(--fill-color);\n",
              "    animation:\n",
              "      spin 1s steps(1) infinite;\n",
              "  }\n",
              "\n",
              "  @keyframes spin {\n",
              "    0% {\n",
              "      border-color: transparent;\n",
              "      border-bottom-color: var(--fill-color);\n",
              "      border-left-color: var(--fill-color);\n",
              "    }\n",
              "    20% {\n",
              "      border-color: transparent;\n",
              "      border-left-color: var(--fill-color);\n",
              "      border-top-color: var(--fill-color);\n",
              "    }\n",
              "    30% {\n",
              "      border-color: transparent;\n",
              "      border-left-color: var(--fill-color);\n",
              "      border-top-color: var(--fill-color);\n",
              "      border-right-color: var(--fill-color);\n",
              "    }\n",
              "    40% {\n",
              "      border-color: transparent;\n",
              "      border-right-color: var(--fill-color);\n",
              "      border-top-color: var(--fill-color);\n",
              "    }\n",
              "    60% {\n",
              "      border-color: transparent;\n",
              "      border-right-color: var(--fill-color);\n",
              "    }\n",
              "    80% {\n",
              "      border-color: transparent;\n",
              "      border-right-color: var(--fill-color);\n",
              "      border-bottom-color: var(--fill-color);\n",
              "    }\n",
              "    90% {\n",
              "      border-color: transparent;\n",
              "      border-bottom-color: var(--fill-color);\n",
              "    }\n",
              "  }\n",
              "</style>\n",
              "\n",
              "      <script>\n",
              "        async function quickchart(key) {\n",
              "          const quickchartButtonEl =\n",
              "            document.querySelector('#' + key + ' button');\n",
              "          quickchartButtonEl.disabled = true;  // To prevent multiple clicks.\n",
              "          quickchartButtonEl.classList.add('colab-df-spinner');\n",
              "          try {\n",
              "            const charts = await google.colab.kernel.invokeFunction(\n",
              "                'suggestCharts', [key], {});\n",
              "          } catch (error) {\n",
              "            console.error('Error during call to suggestCharts:', error);\n",
              "          }\n",
              "          quickchartButtonEl.classList.remove('colab-df-spinner');\n",
              "          quickchartButtonEl.classList.add('colab-df-quickchart-complete');\n",
              "        }\n",
              "        (() => {\n",
              "          let quickchartButtonEl =\n",
              "            document.querySelector('#df-6566590e-07b5-4c0f-83ea-9958491fcade button');\n",
              "          quickchartButtonEl.style.display =\n",
              "            google.colab.kernel.accessAllowed ? 'block' : 'none';\n",
              "        })();\n",
              "      </script>\n",
              "    </div>\n",
              "\n",
              "    </div>\n",
              "  </div>\n"
            ],
            "application/vnd.google.colaboratory.intrinsic+json": {
              "type": "dataframe",
              "variable_name": "data",
              "summary": "{\n  \"name\": \"data\",\n  \"rows\": 126,\n  \"fields\": [\n    {\n      \"column\": \"Y\",\n      \"properties\": {\n        \"dtype\": \"number\",\n        \"std\": 0,\n        \"min\": 0,\n        \"max\": 1,\n        \"num_unique_values\": 2,\n        \"samples\": [\n          1,\n          0\n        ],\n        \"semantic_type\": \"\",\n        \"description\": \"\"\n      }\n    },\n    {\n      \"column\": \"X1\",\n      \"properties\": {\n        \"dtype\": \"number\",\n        \"std\": 0,\n        \"min\": 1,\n        \"max\": 5,\n        \"num_unique_values\": 4,\n        \"samples\": [\n          5,\n          1\n        ],\n        \"semantic_type\": \"\",\n        \"description\": \"\"\n      }\n    },\n    {\n      \"column\": \"X2\",\n      \"properties\": {\n        \"dtype\": \"number\",\n        \"std\": 1,\n        \"min\": 1,\n        \"max\": 5,\n        \"num_unique_values\": 5,\n        \"samples\": [\n          2,\n          1\n        ],\n        \"semantic_type\": \"\",\n        \"description\": \"\"\n      }\n    },\n    {\n      \"column\": \"X3\",\n      \"properties\": {\n        \"dtype\": \"number\",\n        \"std\": 1,\n        \"min\": 1,\n        \"max\": 5,\n        \"num_unique_values\": 5,\n        \"samples\": [\n          2,\n          1\n        ],\n        \"semantic_type\": \"\",\n        \"description\": \"\"\n      }\n    },\n    {\n      \"column\": \"X4\",\n      \"properties\": {\n        \"dtype\": \"number\",\n        \"std\": 0,\n        \"min\": 1,\n        \"max\": 5,\n        \"num_unique_values\": 5,\n        \"samples\": [\n          5,\n          1\n        ],\n        \"semantic_type\": \"\",\n        \"description\": \"\"\n      }\n    },\n    {\n      \"column\": \"X5\",\n      \"properties\": {\n        \"dtype\": \"number\",\n        \"std\": 1,\n        \"min\": 1,\n        \"max\": 5,\n        \"num_unique_values\": 5,\n        \"samples\": [\n          4,\n          1\n        ],\n        \"semantic_type\": \"\",\n        \"description\": \"\"\n      }\n    },\n    {\n      \"column\": \"X6\",\n      \"properties\": {\n        \"dtype\": \"number\",\n        \"std\": 0,\n        \"min\": 1,\n        \"max\": 5,\n        \"num_unique_values\": 5,\n        \"samples\": [\n          3,\n          1\n        ],\n        \"semantic_type\": \"\",\n        \"description\": \"\"\n      }\n    }\n  ]\n}"
            }
          },
          "metadata": {},
          "execution_count": 3
        }
      ]
    },
    {
      "cell_type": "markdown",
      "source": [
        "<a name=\"Previewing the Dataset\"></a>\n",
        "#### <b> 2. Previewing the Dataset</b>\n",
        "----------------------------------------------------------------------"
      ],
      "metadata": {
        "id": "2Zab4RdvioFD"
      }
    },
    {
      "cell_type": "code",
      "source": [
        "data.shape"
      ],
      "metadata": {
        "colab": {
          "base_uri": "https://localhost:8080/"
        },
        "id": "b6Lx6Yvkk-Bx",
        "outputId": "3058754c-3552-4241-8b84-5b21d45f9271"
      },
      "execution_count": null,
      "outputs": [
        {
          "output_type": "execute_result",
          "data": {
            "text/plain": [
              "(126, 7)"
            ]
          },
          "metadata": {},
          "execution_count": 5
        }
      ]
    },
    {
      "cell_type": "code",
      "source": [
        "data.info() # Check data types and null values"
      ],
      "metadata": {
        "colab": {
          "base_uri": "https://localhost:8080/"
        },
        "collapsed": true,
        "id": "TwA0o3D3iom8",
        "outputId": "f7395239-4092-4ec5-c423-16a6a9ad2918"
      },
      "execution_count": null,
      "outputs": [
        {
          "output_type": "stream",
          "name": "stdout",
          "text": [
            "<class 'pandas.core.frame.DataFrame'>\n",
            "RangeIndex: 126 entries, 0 to 125\n",
            "Data columns (total 7 columns):\n",
            " #   Column  Non-Null Count  Dtype\n",
            "---  ------  --------------  -----\n",
            " 0   Y       126 non-null    int64\n",
            " 1   X1      126 non-null    int64\n",
            " 2   X2      126 non-null    int64\n",
            " 3   X3      126 non-null    int64\n",
            " 4   X4      126 non-null    int64\n",
            " 5   X5      126 non-null    int64\n",
            " 6   X6      126 non-null    int64\n",
            "dtypes: int64(7)\n",
            "memory usage: 7.0 KB\n"
          ]
        }
      ]
    },
    {
      "cell_type": "code",
      "source": [
        "data.describe().round(0)  # Review the summary statistics to get a better understanding of the dataset."
      ],
      "metadata": {
        "colab": {
          "base_uri": "https://localhost:8080/",
          "height": 300
        },
        "collapsed": true,
        "id": "lG0fIWUdjXgw",
        "outputId": "e1f77548-3eb0-4c3c-c459-251c99ac5008"
      },
      "execution_count": null,
      "outputs": [
        {
          "output_type": "execute_result",
          "data": {
            "text/plain": [
              "           Y     X1     X2     X3     X4     X5     X6\n",
              "count  126.0  126.0  126.0  126.0  126.0  126.0  126.0\n",
              "mean     1.0    4.0    3.0    3.0    4.0    4.0    4.0\n",
              "std      0.0    1.0    1.0    1.0    1.0    1.0    1.0\n",
              "min      0.0    1.0    1.0    1.0    1.0    1.0    1.0\n",
              "25%      0.0    4.0    2.0    3.0    3.0    3.0    4.0\n",
              "50%      1.0    5.0    3.0    3.0    4.0    4.0    4.0\n",
              "75%      1.0    5.0    3.0    4.0    4.0    4.0    5.0\n",
              "max      1.0    5.0    5.0    5.0    5.0    5.0    5.0"
            ],
            "text/html": [
              "\n",
              "  <div id=\"df-24b54200-1a22-420d-aacc-b97e5fdefb2a\" class=\"colab-df-container\">\n",
              "    <div>\n",
              "<style scoped>\n",
              "    .dataframe tbody tr th:only-of-type {\n",
              "        vertical-align: middle;\n",
              "    }\n",
              "\n",
              "    .dataframe tbody tr th {\n",
              "        vertical-align: top;\n",
              "    }\n",
              "\n",
              "    .dataframe thead th {\n",
              "        text-align: right;\n",
              "    }\n",
              "</style>\n",
              "<table border=\"1\" class=\"dataframe\">\n",
              "  <thead>\n",
              "    <tr style=\"text-align: right;\">\n",
              "      <th></th>\n",
              "      <th>Y</th>\n",
              "      <th>X1</th>\n",
              "      <th>X2</th>\n",
              "      <th>X3</th>\n",
              "      <th>X4</th>\n",
              "      <th>X5</th>\n",
              "      <th>X6</th>\n",
              "    </tr>\n",
              "  </thead>\n",
              "  <tbody>\n",
              "    <tr>\n",
              "      <th>count</th>\n",
              "      <td>126.0</td>\n",
              "      <td>126.0</td>\n",
              "      <td>126.0</td>\n",
              "      <td>126.0</td>\n",
              "      <td>126.0</td>\n",
              "      <td>126.0</td>\n",
              "      <td>126.0</td>\n",
              "    </tr>\n",
              "    <tr>\n",
              "      <th>mean</th>\n",
              "      <td>1.0</td>\n",
              "      <td>4.0</td>\n",
              "      <td>3.0</td>\n",
              "      <td>3.0</td>\n",
              "      <td>4.0</td>\n",
              "      <td>4.0</td>\n",
              "      <td>4.0</td>\n",
              "    </tr>\n",
              "    <tr>\n",
              "      <th>std</th>\n",
              "      <td>0.0</td>\n",
              "      <td>1.0</td>\n",
              "      <td>1.0</td>\n",
              "      <td>1.0</td>\n",
              "      <td>1.0</td>\n",
              "      <td>1.0</td>\n",
              "      <td>1.0</td>\n",
              "    </tr>\n",
              "    <tr>\n",
              "      <th>min</th>\n",
              "      <td>0.0</td>\n",
              "      <td>1.0</td>\n",
              "      <td>1.0</td>\n",
              "      <td>1.0</td>\n",
              "      <td>1.0</td>\n",
              "      <td>1.0</td>\n",
              "      <td>1.0</td>\n",
              "    </tr>\n",
              "    <tr>\n",
              "      <th>25%</th>\n",
              "      <td>0.0</td>\n",
              "      <td>4.0</td>\n",
              "      <td>2.0</td>\n",
              "      <td>3.0</td>\n",
              "      <td>3.0</td>\n",
              "      <td>3.0</td>\n",
              "      <td>4.0</td>\n",
              "    </tr>\n",
              "    <tr>\n",
              "      <th>50%</th>\n",
              "      <td>1.0</td>\n",
              "      <td>5.0</td>\n",
              "      <td>3.0</td>\n",
              "      <td>3.0</td>\n",
              "      <td>4.0</td>\n",
              "      <td>4.0</td>\n",
              "      <td>4.0</td>\n",
              "    </tr>\n",
              "    <tr>\n",
              "      <th>75%</th>\n",
              "      <td>1.0</td>\n",
              "      <td>5.0</td>\n",
              "      <td>3.0</td>\n",
              "      <td>4.0</td>\n",
              "      <td>4.0</td>\n",
              "      <td>4.0</td>\n",
              "      <td>5.0</td>\n",
              "    </tr>\n",
              "    <tr>\n",
              "      <th>max</th>\n",
              "      <td>1.0</td>\n",
              "      <td>5.0</td>\n",
              "      <td>5.0</td>\n",
              "      <td>5.0</td>\n",
              "      <td>5.0</td>\n",
              "      <td>5.0</td>\n",
              "      <td>5.0</td>\n",
              "    </tr>\n",
              "  </tbody>\n",
              "</table>\n",
              "</div>\n",
              "    <div class=\"colab-df-buttons\">\n",
              "\n",
              "  <div class=\"colab-df-container\">\n",
              "    <button class=\"colab-df-convert\" onclick=\"convertToInteractive('df-24b54200-1a22-420d-aacc-b97e5fdefb2a')\"\n",
              "            title=\"Convert this dataframe to an interactive table.\"\n",
              "            style=\"display:none;\">\n",
              "\n",
              "  <svg xmlns=\"http://www.w3.org/2000/svg\" height=\"24px\" viewBox=\"0 -960 960 960\">\n",
              "    <path d=\"M120-120v-720h720v720H120Zm60-500h600v-160H180v160Zm220 220h160v-160H400v160Zm0 220h160v-160H400v160ZM180-400h160v-160H180v160Zm440 0h160v-160H620v160ZM180-180h160v-160H180v160Zm440 0h160v-160H620v160Z\"/>\n",
              "  </svg>\n",
              "    </button>\n",
              "\n",
              "  <style>\n",
              "    .colab-df-container {\n",
              "      display:flex;\n",
              "      gap: 12px;\n",
              "    }\n",
              "\n",
              "    .colab-df-convert {\n",
              "      background-color: #E8F0FE;\n",
              "      border: none;\n",
              "      border-radius: 50%;\n",
              "      cursor: pointer;\n",
              "      display: none;\n",
              "      fill: #1967D2;\n",
              "      height: 32px;\n",
              "      padding: 0 0 0 0;\n",
              "      width: 32px;\n",
              "    }\n",
              "\n",
              "    .colab-df-convert:hover {\n",
              "      background-color: #E2EBFA;\n",
              "      box-shadow: 0px 1px 2px rgba(60, 64, 67, 0.3), 0px 1px 3px 1px rgba(60, 64, 67, 0.15);\n",
              "      fill: #174EA6;\n",
              "    }\n",
              "\n",
              "    .colab-df-buttons div {\n",
              "      margin-bottom: 4px;\n",
              "    }\n",
              "\n",
              "    [theme=dark] .colab-df-convert {\n",
              "      background-color: #3B4455;\n",
              "      fill: #D2E3FC;\n",
              "    }\n",
              "\n",
              "    [theme=dark] .colab-df-convert:hover {\n",
              "      background-color: #434B5C;\n",
              "      box-shadow: 0px 1px 3px 1px rgba(0, 0, 0, 0.15);\n",
              "      filter: drop-shadow(0px 1px 2px rgba(0, 0, 0, 0.3));\n",
              "      fill: #FFFFFF;\n",
              "    }\n",
              "  </style>\n",
              "\n",
              "    <script>\n",
              "      const buttonEl =\n",
              "        document.querySelector('#df-24b54200-1a22-420d-aacc-b97e5fdefb2a button.colab-df-convert');\n",
              "      buttonEl.style.display =\n",
              "        google.colab.kernel.accessAllowed ? 'block' : 'none';\n",
              "\n",
              "      async function convertToInteractive(key) {\n",
              "        const element = document.querySelector('#df-24b54200-1a22-420d-aacc-b97e5fdefb2a');\n",
              "        const dataTable =\n",
              "          await google.colab.kernel.invokeFunction('convertToInteractive',\n",
              "                                                    [key], {});\n",
              "        if (!dataTable) return;\n",
              "\n",
              "        const docLinkHtml = 'Like what you see? Visit the ' +\n",
              "          '<a target=\"_blank\" href=https://colab.research.google.com/notebooks/data_table.ipynb>data table notebook</a>'\n",
              "          + ' to learn more about interactive tables.';\n",
              "        element.innerHTML = '';\n",
              "        dataTable['output_type'] = 'display_data';\n",
              "        await google.colab.output.renderOutput(dataTable, element);\n",
              "        const docLink = document.createElement('div');\n",
              "        docLink.innerHTML = docLinkHtml;\n",
              "        element.appendChild(docLink);\n",
              "      }\n",
              "    </script>\n",
              "  </div>\n",
              "\n",
              "\n",
              "    <div id=\"df-a46d6240-6490-4f56-af58-3a030b877217\">\n",
              "      <button class=\"colab-df-quickchart\" onclick=\"quickchart('df-a46d6240-6490-4f56-af58-3a030b877217')\"\n",
              "                title=\"Suggest charts\"\n",
              "                style=\"display:none;\">\n",
              "\n",
              "<svg xmlns=\"http://www.w3.org/2000/svg\" height=\"24px\"viewBox=\"0 0 24 24\"\n",
              "     width=\"24px\">\n",
              "    <g>\n",
              "        <path d=\"M19 3H5c-1.1 0-2 .9-2 2v14c0 1.1.9 2 2 2h14c1.1 0 2-.9 2-2V5c0-1.1-.9-2-2-2zM9 17H7v-7h2v7zm4 0h-2V7h2v10zm4 0h-2v-4h2v4z\"/>\n",
              "    </g>\n",
              "</svg>\n",
              "      </button>\n",
              "\n",
              "<style>\n",
              "  .colab-df-quickchart {\n",
              "      --bg-color: #E8F0FE;\n",
              "      --fill-color: #1967D2;\n",
              "      --hover-bg-color: #E2EBFA;\n",
              "      --hover-fill-color: #174EA6;\n",
              "      --disabled-fill-color: #AAA;\n",
              "      --disabled-bg-color: #DDD;\n",
              "  }\n",
              "\n",
              "  [theme=dark] .colab-df-quickchart {\n",
              "      --bg-color: #3B4455;\n",
              "      --fill-color: #D2E3FC;\n",
              "      --hover-bg-color: #434B5C;\n",
              "      --hover-fill-color: #FFFFFF;\n",
              "      --disabled-bg-color: #3B4455;\n",
              "      --disabled-fill-color: #666;\n",
              "  }\n",
              "\n",
              "  .colab-df-quickchart {\n",
              "    background-color: var(--bg-color);\n",
              "    border: none;\n",
              "    border-radius: 50%;\n",
              "    cursor: pointer;\n",
              "    display: none;\n",
              "    fill: var(--fill-color);\n",
              "    height: 32px;\n",
              "    padding: 0;\n",
              "    width: 32px;\n",
              "  }\n",
              "\n",
              "  .colab-df-quickchart:hover {\n",
              "    background-color: var(--hover-bg-color);\n",
              "    box-shadow: 0 1px 2px rgba(60, 64, 67, 0.3), 0 1px 3px 1px rgba(60, 64, 67, 0.15);\n",
              "    fill: var(--button-hover-fill-color);\n",
              "  }\n",
              "\n",
              "  .colab-df-quickchart-complete:disabled,\n",
              "  .colab-df-quickchart-complete:disabled:hover {\n",
              "    background-color: var(--disabled-bg-color);\n",
              "    fill: var(--disabled-fill-color);\n",
              "    box-shadow: none;\n",
              "  }\n",
              "\n",
              "  .colab-df-spinner {\n",
              "    border: 2px solid var(--fill-color);\n",
              "    border-color: transparent;\n",
              "    border-bottom-color: var(--fill-color);\n",
              "    animation:\n",
              "      spin 1s steps(1) infinite;\n",
              "  }\n",
              "\n",
              "  @keyframes spin {\n",
              "    0% {\n",
              "      border-color: transparent;\n",
              "      border-bottom-color: var(--fill-color);\n",
              "      border-left-color: var(--fill-color);\n",
              "    }\n",
              "    20% {\n",
              "      border-color: transparent;\n",
              "      border-left-color: var(--fill-color);\n",
              "      border-top-color: var(--fill-color);\n",
              "    }\n",
              "    30% {\n",
              "      border-color: transparent;\n",
              "      border-left-color: var(--fill-color);\n",
              "      border-top-color: var(--fill-color);\n",
              "      border-right-color: var(--fill-color);\n",
              "    }\n",
              "    40% {\n",
              "      border-color: transparent;\n",
              "      border-right-color: var(--fill-color);\n",
              "      border-top-color: var(--fill-color);\n",
              "    }\n",
              "    60% {\n",
              "      border-color: transparent;\n",
              "      border-right-color: var(--fill-color);\n",
              "    }\n",
              "    80% {\n",
              "      border-color: transparent;\n",
              "      border-right-color: var(--fill-color);\n",
              "      border-bottom-color: var(--fill-color);\n",
              "    }\n",
              "    90% {\n",
              "      border-color: transparent;\n",
              "      border-bottom-color: var(--fill-color);\n",
              "    }\n",
              "  }\n",
              "</style>\n",
              "\n",
              "      <script>\n",
              "        async function quickchart(key) {\n",
              "          const quickchartButtonEl =\n",
              "            document.querySelector('#' + key + ' button');\n",
              "          quickchartButtonEl.disabled = true;  // To prevent multiple clicks.\n",
              "          quickchartButtonEl.classList.add('colab-df-spinner');\n",
              "          try {\n",
              "            const charts = await google.colab.kernel.invokeFunction(\n",
              "                'suggestCharts', [key], {});\n",
              "          } catch (error) {\n",
              "            console.error('Error during call to suggestCharts:', error);\n",
              "          }\n",
              "          quickchartButtonEl.classList.remove('colab-df-spinner');\n",
              "          quickchartButtonEl.classList.add('colab-df-quickchart-complete');\n",
              "        }\n",
              "        (() => {\n",
              "          let quickchartButtonEl =\n",
              "            document.querySelector('#df-a46d6240-6490-4f56-af58-3a030b877217 button');\n",
              "          quickchartButtonEl.style.display =\n",
              "            google.colab.kernel.accessAllowed ? 'block' : 'none';\n",
              "        })();\n",
              "      </script>\n",
              "    </div>\n",
              "\n",
              "    </div>\n",
              "  </div>\n"
            ],
            "application/vnd.google.colaboratory.intrinsic+json": {
              "type": "dataframe",
              "summary": "{\n  \"name\": \"data\",\n  \"rows\": 8,\n  \"fields\": [\n    {\n      \"column\": \"Y\",\n      \"properties\": {\n        \"dtype\": \"number\",\n        \"std\": 44.3484578569054,\n        \"min\": 0.0,\n        \"max\": 126.0,\n        \"num_unique_values\": 3,\n        \"samples\": [\n          126.0,\n          1.0,\n          0.0\n        ],\n        \"semantic_type\": \"\",\n        \"description\": \"\"\n      }\n    },\n    {\n      \"column\": \"X1\",\n      \"properties\": {\n        \"dtype\": \"number\",\n        \"std\": 43.317556651844,\n        \"min\": 1.0,\n        \"max\": 126.0,\n        \"num_unique_values\": 4,\n        \"samples\": [\n          4.0,\n          5.0,\n          126.0\n        ],\n        \"semantic_type\": \"\",\n        \"description\": \"\"\n      }\n    },\n    {\n      \"column\": \"X2\",\n      \"properties\": {\n        \"dtype\": \"number\",\n        \"std\": 43.657759905886145,\n        \"min\": 1.0,\n        \"max\": 126.0,\n        \"num_unique_values\": 5,\n        \"samples\": [\n          3.0,\n          5.0,\n          1.0\n        ],\n        \"semantic_type\": \"\",\n        \"description\": \"\"\n      }\n    },\n    {\n      \"column\": \"X3\",\n      \"properties\": {\n        \"dtype\": \"number\",\n        \"std\": 43.55866323542474,\n        \"min\": 1.0,\n        \"max\": 126.0,\n        \"num_unique_values\": 5,\n        \"samples\": [\n          3.0,\n          5.0,\n          1.0\n        ],\n        \"semantic_type\": \"\",\n        \"description\": \"\"\n      }\n    },\n    {\n      \"column\": \"X4\",\n      \"properties\": {\n        \"dtype\": \"number\",\n        \"std\": 43.46098414505984,\n        \"min\": 1.0,\n        \"max\": 126.0,\n        \"num_unique_values\": 5,\n        \"samples\": [\n          4.0,\n          5.0,\n          1.0\n        ],\n        \"semantic_type\": \"\",\n        \"description\": \"\"\n      }\n    },\n    {\n      \"column\": \"X5\",\n      \"properties\": {\n        \"dtype\": \"number\",\n        \"std\": 43.46098414505984,\n        \"min\": 1.0,\n        \"max\": 126.0,\n        \"num_unique_values\": 5,\n        \"samples\": [\n          4.0,\n          5.0,\n          1.0\n        ],\n        \"semantic_type\": \"\",\n        \"description\": \"\"\n      }\n    },\n    {\n      \"column\": \"X6\",\n      \"properties\": {\n        \"dtype\": \"number\",\n        \"std\": 43.36473221409305,\n        \"min\": 1.0,\n        \"max\": 126.0,\n        \"num_unique_values\": 4,\n        \"samples\": [\n          4.0,\n          5.0,\n          126.0\n        ],\n        \"semantic_type\": \"\",\n        \"description\": \"\"\n      }\n    }\n  ]\n}"
            }
          },
          "metadata": {},
          "execution_count": 7
        }
      ]
    },
    {
      "cell_type": "code",
      "source": [
        "data.isnull().sum()     # Verify if the dataset contains missing values."
      ],
      "metadata": {
        "colab": {
          "base_uri": "https://localhost:8080/",
          "height": 304
        },
        "collapsed": true,
        "id": "AXgPUA80nG1G",
        "outputId": "dc57914f-a225-405b-d85d-2c4036599fe8"
      },
      "execution_count": null,
      "outputs": [
        {
          "output_type": "execute_result",
          "data": {
            "text/plain": [
              "Y     0\n",
              "X1    0\n",
              "X2    0\n",
              "X3    0\n",
              "X4    0\n",
              "X5    0\n",
              "X6    0\n",
              "dtype: int64"
            ],
            "text/html": [
              "<div>\n",
              "<style scoped>\n",
              "    .dataframe tbody tr th:only-of-type {\n",
              "        vertical-align: middle;\n",
              "    }\n",
              "\n",
              "    .dataframe tbody tr th {\n",
              "        vertical-align: top;\n",
              "    }\n",
              "\n",
              "    .dataframe thead th {\n",
              "        text-align: right;\n",
              "    }\n",
              "</style>\n",
              "<table border=\"1\" class=\"dataframe\">\n",
              "  <thead>\n",
              "    <tr style=\"text-align: right;\">\n",
              "      <th></th>\n",
              "      <th>0</th>\n",
              "    </tr>\n",
              "  </thead>\n",
              "  <tbody>\n",
              "    <tr>\n",
              "      <th>Y</th>\n",
              "      <td>0</td>\n",
              "    </tr>\n",
              "    <tr>\n",
              "      <th>X1</th>\n",
              "      <td>0</td>\n",
              "    </tr>\n",
              "    <tr>\n",
              "      <th>X2</th>\n",
              "      <td>0</td>\n",
              "    </tr>\n",
              "    <tr>\n",
              "      <th>X3</th>\n",
              "      <td>0</td>\n",
              "    </tr>\n",
              "    <tr>\n",
              "      <th>X4</th>\n",
              "      <td>0</td>\n",
              "    </tr>\n",
              "    <tr>\n",
              "      <th>X5</th>\n",
              "      <td>0</td>\n",
              "    </tr>\n",
              "    <tr>\n",
              "      <th>X6</th>\n",
              "      <td>0</td>\n",
              "    </tr>\n",
              "  </tbody>\n",
              "</table>\n",
              "</div><br><label><b>dtype:</b> int64</label>"
            ]
          },
          "metadata": {},
          "execution_count": 8
        }
      ]
    },
    {
      "cell_type": "markdown",
      "source": [
        "##### **Observations:**<br>\n",
        "* The dataset contains seven columns (variables) and 126 records on each column.\n",
        "* There are no null/missing values.\n",
        "* The values of Y range between 0 and 1, and for X between 1 and 5, as it was expected.\n",
        "* The mean of variables X2 and X3 is three, a point lower compared to the other X variables.\n",
        "\n"
      ],
      "metadata": {
        "id": "9mIN9qS0lJ6_"
      }
    },
    {
      "cell_type": "markdown",
      "source": [
        "<a name=\"Exploratory Data Analysis\"></a>\n",
        "#### <b>3. Exploratory Data Analysis</b>\n",
        "----------------------------------------------------------------------"
      ],
      "metadata": {
        "id": "GW9-PMmxd4dg"
      }
    },
    {
      "cell_type": "markdown",
      "source": [
        "<a name=\"a) Univariate\"></a>\n",
        "###### <b> a) Univariate:</b> Deep dive into single variables distribution, central tendency, and variability."
      ],
      "metadata": {
        "id": "BPlZ_dvtpqcJ"
      }
    },
    {
      "cell_type": "code",
      "source": [
        "# Counting Y labels to see if hey are balanced\n",
        "data['Y'].value_counts()"
      ],
      "metadata": {
        "colab": {
          "base_uri": "https://localhost:8080/",
          "height": 178
        },
        "id": "keNanA_LKAAS",
        "outputId": "43a4cdcc-4149-4604-b727-cfabd1e33cb2"
      },
      "execution_count": null,
      "outputs": [
        {
          "output_type": "execute_result",
          "data": {
            "text/plain": [
              "Y\n",
              "1    69\n",
              "0    57\n",
              "Name: count, dtype: int64"
            ],
            "text/html": [
              "<div>\n",
              "<style scoped>\n",
              "    .dataframe tbody tr th:only-of-type {\n",
              "        vertical-align: middle;\n",
              "    }\n",
              "\n",
              "    .dataframe tbody tr th {\n",
              "        vertical-align: top;\n",
              "    }\n",
              "\n",
              "    .dataframe thead th {\n",
              "        text-align: right;\n",
              "    }\n",
              "</style>\n",
              "<table border=\"1\" class=\"dataframe\">\n",
              "  <thead>\n",
              "    <tr style=\"text-align: right;\">\n",
              "      <th></th>\n",
              "      <th>count</th>\n",
              "    </tr>\n",
              "    <tr>\n",
              "      <th>Y</th>\n",
              "      <th></th>\n",
              "    </tr>\n",
              "  </thead>\n",
              "  <tbody>\n",
              "    <tr>\n",
              "      <th>1</th>\n",
              "      <td>69</td>\n",
              "    </tr>\n",
              "    <tr>\n",
              "      <th>0</th>\n",
              "      <td>57</td>\n",
              "    </tr>\n",
              "  </tbody>\n",
              "</table>\n",
              "</div><br><label><b>dtype:</b> int64</label>"
            ]
          },
          "metadata": {},
          "execution_count": 9
        }
      ]
    },
    {
      "cell_type": "code",
      "source": [
        "# Getting a deeper understanding of the labels distribution\n",
        "\n",
        "plt.plot(figsize=(3, 2))\n",
        "\n",
        "sns.histplot(data, x=data['Y'])\n",
        "plt.xlabel('Y Labels')\n",
        "plt.ylabel('Frequency')\n",
        "plt.title('Distribution of Y')\n",
        "plt.show()"
      ],
      "metadata": {
        "colab": {
          "base_uri": "https://localhost:8080/",
          "height": 472
        },
        "id": "6tAgT3J-HdQG",
        "outputId": "22b2f642-a01c-4848-abc8-fdda40947578"
      },
      "execution_count": null,
      "outputs": [
        {
          "output_type": "display_data",
          "data": {
            "text/plain": [
              "<Figure size 640x480 with 1 Axes>"
            ],
            "image/png": "[encoded data removed]"
          },
          "metadata": {}
        }
      ]
    },
    {
      "cell_type": "code",
      "source": [
        "# Inspecting X variables distribution\n",
        "x_cols = ['X1','X2','X3','X4','X5','X6']\n",
        "\n",
        "fig, axes = plt.subplots(2, 3, figsize=(9, 5))\n",
        "axes = axes.flatten()\n",
        "\n",
        "# Loop through the configurations and create each subplot dynamically\n",
        "for idx, col_name in enumerate(x_cols):\n",
        "    bins_val = 20\n",
        "    kde_val = True\n",
        "    plot_color = 'Blue'\n",
        "\n",
        "    # Plot the histogram using seaborn on the current axis (axes[i])\n",
        "    sns.histplot(data, x=col_name, bins=bins_val, kde=kde_val, ax=axes[idx], color=plot_color)\n",
        "\n",
        "    # Set title and labels for the current subplot\n",
        "    axes[idx].set_title(f'{col_name} Histogram')\n",
        "    axes[idx].set_xlabel(f'{col_name} Value')\n",
        "    axes[idx].set_ylabel('Frequency')\n",
        "\n",
        "plt.tight_layout() # Adjust layout to prevent overlapping titles/labels\n",
        "plt.show()"
      ],
      "metadata": {
        "colab": {
          "base_uri": "https://localhost:8080/",
          "height": 507
        },
        "id": "4AluzAFO45lU",
        "outputId": "b253ae81-2d96-445c-f6bc-1477f1ee1d3b"
      },
      "execution_count": null,
      "outputs": [
        {
          "output_type": "display_data",
          "data": {
            "text/plain": [
              "<Figure size 900x500 with 6 Axes>"
            ],
            "image/png": "[encoded data removed]"
          },
          "metadata": {}
        }
      ]
    },
    {
      "cell_type": "code",
      "source": [
        "# Generate boxplots for all columns\n",
        "sns.boxplot(data)\n",
        "\n",
        "# Display the plot\n",
        "plt.title('Boxplot for Each Column')\n",
        "plt.ylabel('Value')\n",
        "plt.grid(True)\n",
        "plt.show()"
      ],
      "metadata": {
        "id": "Gt7skFjgK-MH",
        "colab": {
          "base_uri": "https://localhost:8080/",
          "height": 452
        },
        "outputId": "0b613f92-5ab3-4d8a-f41a-7e7bb826bf4b"
      },
      "execution_count": null,
      "outputs": [
        {
          "output_type": "display_data",
          "data": {
            "text/plain": [
              "<Figure size 640x480 with 1 Axes>"
            ],
            "image/png": "[encoded data removed]"
          },
          "metadata": {}
        }
      ]
    },
    {
      "cell_type": "markdown",
      "source": [
        "###### **Observations:**\n",
        "1. Y labels are balanced, with 1 with 55% of labels and 0 with 45% of the labels.\n",
        "2. The X variables are distribuited as follow:<br>\n",
        "  **a)** Top rated questions were related to getting the delivery on time (X1) and the positive impact of using the app (X6), most of these questions were scored with 5 (Left-skewed distribution).<br>\n",
        "  **b)** The second best rated services were the price paid for orders (X4) and satisfaction with the courier (X5), the majority of these questions were scored with 4.<br>\n",
        "  **c)** Finally, the rate of receive the expected content (X2) and order what they want (X3) fell in the lowest score among all questions, 3.<br>"
      ],
      "metadata": {
        "id": "Fxy9QDua7wVe"
      }
    },
    {
      "cell_type": "markdown",
      "source": [
        "<a name=\"b) Multivariate\"></a>\n",
        "###### <b>b) Multivariate</b>       "
      ],
      "metadata": {
        "id": "J7xN_lVUsLKk"
      }
    },
    {
      "cell_type": "code",
      "source": [
        "# Correlaction Matrix helps us to investigate variables' relationships.\n",
        "\n",
        "plt.figure(figsize=(5, 4))\n",
        "sns.heatmap(data[x_cols].corr(), annot=True, fmt='.1f', cmap='RdBu')\n",
        "plt.title('Correlation Matrix')\n",
        "plt.show()"
      ],
      "metadata": {
        "id": "uIMRrOncsRcF",
        "colab": {
          "base_uri": "https://localhost:8080/",
          "height": 391
        },
        "outputId": "cb9ef3ff-d8ad-4540-83b7-94d6a4da1658"
      },
      "execution_count": null,
      "outputs": [
        {
          "output_type": "display_data",
          "data": {
            "text/plain": [
              "<Figure size 500x400 with 2 Axes>"
            ],
            "image/png": "[encoded data removed]"
          },
          "metadata": {}
        }
      ]
    },
    {
      "cell_type": "code",
      "source": [
        "## Plotting X variables vs Y\n",
        "\n",
        "# Defining variables\n",
        "X = data.iloc[:, 1:]\n",
        "y = data.iloc[:, 0]\n",
        "y_col = data.columns[0]\n",
        "X_cols = X.columns.tolist()\n",
        "\n",
        "def plot_x_vs_y(data, X_cols, y_col):\n",
        "    n_cols = 3\n",
        "    n_rows = (len(X_cols) + n_cols - 1) // n_cols  # Adjust rows to fit the subplots\n",
        "\n",
        "    fig, axes = plt.subplots(n_rows, n_cols, figsize=(n_cols * 5, n_rows * 3))\n",
        "    axes = axes.flatten()  # Flatten axes array for easy iteration\n",
        "\n",
        "    for idx, col in enumerate(X_cols):\n",
        "        ax = axes[idx]\n",
        "\n",
        "        # Count the number of observations for each level of X (1 to 5)\n",
        "        count_data = data.groupby(col).size()\n",
        "\n",
        "        # Create bar plot for the count of X variables\n",
        "        count_data.plot(kind='bar', color='skyblue', width=0.6, position=1, ax=ax)\n",
        "\n",
        "        # Plot the binary y values (0 or 1) for each level of X as a line\n",
        "        y_values = data.groupby(col)[y_col].mean()  # Using mean to calculate the proportion of '1's in the y column for each level of X\n",
        "        ax2 = ax.twinx()\n",
        "        ax2.plot(y_values.index, y_values, color='green', marker='o', linestyle='--', label=f'{y_col} proportion')\n",
        "\n",
        "\n",
        "        # Title and axis labels\n",
        "        ax.set_title(f\"{col} vs {y_col}\")\n",
        "        ax.set_xlabel(col)\n",
        "        ax.set_ylabel('Counts of X', color='black')\n",
        "        ax2.set_ylabel(f'{y_col} values', color='black')\n",
        "        ax2.set_ylabel(f'{y_col} proportion', color='green')\n",
        "\n",
        "        # Rotate X-axis labels\n",
        "        ax.set_xticks(range(len(count_data)))\n",
        "        ax.set_xticklabels(count_data.index)\n",
        "        ax.tick_params(axis='y', labelcolor='black')\n",
        "        ax2.tick_params(axis='y', labelcolor='black')\n",
        "        ax.tick_params(axis='x', rotation=0)  # Rotating the X-axis labels\n",
        "\n",
        "    plt.tight_layout()\n",
        "    plt.show()\n",
        "\n",
        "# Run the function\n",
        "plot_x_vs_y(data, X_cols, y_col)"
      ],
      "metadata": {
        "colab": {
          "base_uri": "https://localhost:8080/",
          "height": 576
        },
        "id": "Y7AFCYr7_8I5",
        "outputId": "c3be42e7-f117-421d-afcd-92bc32545d2e"
      },
      "execution_count": null,
      "outputs": [
        {
          "output_type": "display_data",
          "data": {
            "text/plain": [
              "<Figure size 1500x600 with 12 Axes>"
            ],
            "image/png": "[encoded data removed]"
          },
          "metadata": {}
        }
      ]
    },
    {
      "cell_type": "markdown",
      "source": [
        "###### **Observations**<br>\n",
        "Correlations are close to zero, this means that there are weak relationships across variables."
      ],
      "metadata": {
        "id": "v5bjksgNfYOr"
      }
    },
    {
      "cell_type": "markdown",
      "source": [
        "<a name=\"Model Building\"></a>\n",
        "#### **4. Model Building**\n",
        "----------------------------------------------------------------------"
      ],
      "metadata": {
        "id": "4cMhsMm3GXkL"
      }
    },
    {
      "cell_type": "markdown",
      "source": [
        "<a name=\"a) Train-Test Data\"></a>\n",
        "###### **a) Train-Test Data**"
      ],
      "metadata": {
        "id": "9jnvcBFTrIb1"
      }
    },
    {
      "cell_type": "code",
      "source": [
        "# Define X and y\n",
        "X = data.iloc[:, 1:]\n",
        "y = data.iloc[:, 0]\n",
        "\n",
        "# Split the dataset\n",
        "X_train, X_test, y_train, y_test = train_test_split(X, y, test_size=0.2, random_state=0)\n",
        "display(X_train.shape)\n",
        "display(X_test.shape)\n",
        "display(y_train.shape)\n",
        "display(y_test.shape)"
      ],
      "metadata": {
        "id": "bmJSrt-UGkl5",
        "colab": {
          "base_uri": "https://localhost:8080/",
          "height": 90
        },
        "outputId": "db8bcf33-7a45-422b-cbe1-251e48aedbf4"
      },
      "execution_count": null,
      "outputs": [
        {
          "output_type": "display_data",
          "data": {
            "text/plain": [
              "(100, 6)"
            ]
          },
          "metadata": {}
        },
        {
          "output_type": "display_data",
          "data": {
            "text/plain": [
              "(26, 6)"
            ]
          },
          "metadata": {}
        },
        {
          "output_type": "display_data",
          "data": {
            "text/plain": [
              "(100,)"
            ]
          },
          "metadata": {}
        },
        {
          "output_type": "display_data",
          "data": {
            "text/plain": [
              "(26,)"
            ]
          },
          "metadata": {}
        }
      ]
    },
    {
      "cell_type": "markdown",
      "source": [
        "<a name=\"b) Selecting the Best Approach\"></a>\n",
        "###### **b) Selecting the Best Approach**"
      ],
      "metadata": {
        "id": "bMPFIQ_CpQj2"
      }
    },
    {
      "cell_type": "code",
      "source": [
        "# Running several classification models to select one with the highest accuracy score\n",
        "\n",
        "models = {}\n",
        "\n",
        "models['Random Forest'] = RandomForestClassifier(random_state=23, criterion='gini')\n",
        "models['Decision Tree'] = DecisionTreeClassifier(random_state=9, max_depth=10)\n",
        "models['Logistic Regression'] = LogisticRegression(random_state=50)\n",
        "models['Bagging'] = BaggingClassifier(n_estimators=40, random_state=100)\n",
        "models['Support Vector Machine'] = LinearSVC(random_state=23, tol=0.0001)\n",
        "models['Gradient Boosting'] = GradientBoostingClassifier(random_state=100, learning_rate=0.01, n_estimators=100)\n",
        "models['AdaBoost'] = AdaBoostClassifier(n_estimators=70, random_state=100, learning_rate=0.01)\n",
        "models['XGBoost'] = XGBClassifier(n_estimators=2, max_depth=2, objective='binary:logistic')\n",
        "\n",
        "accuracy, precision, recall = {}, {}, {}\n",
        "\n",
        "\n",
        "for key in models.keys():\n",
        "    models[key].fit(X_train, y_train) # Fitting models using training data\n",
        "    y_pred = models[key].predict(X_test)  # Predicting model on test data\n",
        "\n",
        "    accuracy[key] = accuracy_score(y_test, y_pred)\n",
        "\n",
        "# Calculating accuracy for all models\n",
        "from operator import index\n",
        "df_model = pd.DataFrame(columns=['Accuracy'])\n",
        "df_model['Model'] = models.keys()\n",
        "df_model['Accuracy'] = accuracy.values()\n",
        "\n",
        "\n",
        "# Reorder columns to place 'Model' at the beginning\n",
        "df_model = df_model[['Model', 'Accuracy']]\n",
        "\n",
        "# Set 'Model' as the index\n",
        "df_model_ind = df_model.set_index('Model')\n",
        "\n",
        "# Sort the DataFrame by 'Accuracy' in descending order\n",
        "df_model_sorted = df_model_ind.sort_values(by='Accuracy', ascending=False)\n",
        "\n",
        "df_model_sorted"
      ],
      "metadata": {
        "id": "Xn4ljVHLJXdX",
        "colab": {
          "base_uri": "https://localhost:8080/",
          "height": 331
        },
        "outputId": "3776f20d-3216-4311-a796-6509a87f5893"
      },
      "execution_count": null,
      "outputs": [
        {
          "output_type": "execute_result",
          "data": {
            "text/plain": [
              "                        Accuracy\n",
              "Model                           \n",
              "AdaBoost                0.653846\n",
              "Logistic Regression     0.615385\n",
              "Support Vector Machine  0.615385\n",
              "XGBoost                 0.576923\n",
              "Random Forest           0.538462\n",
              "Bagging                 0.538462\n",
              "Gradient Boosting       0.538462\n",
              "Decision Tree           0.423077"
            ],
            "text/html": [
              "\n",
              "  <div id=\"df-7f0542b1-f7d1-4387-a7d0-4be6e748332e\" class=\"colab-df-container\">\n",
              "    <div>\n",
              "<style scoped>\n",
              "    .dataframe tbody tr th:only-of-type {\n",
              "        vertical-align: middle;\n",
              "    }\n",
              "\n",
              "    .dataframe tbody tr th {\n",
              "        vertical-align: top;\n",
              "    }\n",
              "\n",
              "    .dataframe thead th {\n",
              "        text-align: right;\n",
              "    }\n",
              "</style>\n",
              "<table border=\"1\" class=\"dataframe\">\n",
              "  <thead>\n",
              "    <tr style=\"text-align: right;\">\n",
              "      <th></th>\n",
              "      <th>Accuracy</th>\n",
              "    </tr>\n",
              "    <tr>\n",
              "      <th>Model</th>\n",
              "      <th></th>\n",
              "    </tr>\n",
              "  </thead>\n",
              "  <tbody>\n",
              "    <tr>\n",
              "      <th>AdaBoost</th>\n",
              "      <td>0.653846</td>\n",
              "    </tr>\n",
              "    <tr>\n",
              "      <th>Logistic Regression</th>\n",
              "      <td>0.615385</td>\n",
              "    </tr>\n",
              "    <tr>\n",
              "      <th>Support Vector Machine</th>\n",
              "      <td>0.615385</td>\n",
              "    </tr>\n",
              "    <tr>\n",
              "      <th>XGBoost</th>\n",
              "      <td>0.576923</td>\n",
              "    </tr>\n",
              "    <tr>\n",
              "      <th>Random Forest</th>\n",
              "      <td>0.538462</td>\n",
              "    </tr>\n",
              "    <tr>\n",
              "      <th>Bagging</th>\n",
              "      <td>0.538462</td>\n",
              "    </tr>\n",
              "    <tr>\n",
              "      <th>Gradient Boosting</th>\n",
              "      <td>0.538462</td>\n",
              "    </tr>\n",
              "    <tr>\n",
              "      <th>Decision Tree</th>\n",
              "      <td>0.423077</td>\n",
              "    </tr>\n",
              "  </tbody>\n",
              "</table>\n",
              "</div>\n",
              "    <div class=\"colab-df-buttons\">\n",
              "\n",
              "  <div class=\"colab-df-container\">\n",
              "    <button class=\"colab-df-convert\" onclick=\"convertToInteractive('df-7f0542b1-f7d1-4387-a7d0-4be6e748332e')\"\n",
              "            title=\"Convert this dataframe to an interactive table.\"\n",
              "            style=\"display:none;\">\n",
              "\n",
              "  <svg xmlns=\"http://www.w3.org/2000/svg\" height=\"24px\" viewBox=\"0 -960 960 960\">\n",
              "    <path d=\"M120-120v-720h720v720H120Zm60-500h600v-160H180v160Zm220 220h160v-160H400v160Zm0 220h160v-160H400v160ZM180-400h160v-160H180v160Zm440 0h160v-160H620v160ZM180-180h160v-160H180v160Zm440 0h160v-160H620v160Z\"/>\n",
              "  </svg>\n",
              "    </button>\n",
              "\n",
              "  <style>\n",
              "    .colab-df-container {\n",
              "      display:flex;\n",
              "      gap: 12px;\n",
              "    }\n",
              "\n",
              "    .colab-df-convert {\n",
              "      background-color: #E8F0FE;\n",
              "      border: none;\n",
              "      border-radius: 50%;\n",
              "      cursor: pointer;\n",
              "      display: none;\n",
              "      fill: #1967D2;\n",
              "      height: 32px;\n",
              "      padding: 0 0 0 0;\n",
              "      width: 32px;\n",
              "    }\n",
              "\n",
              "    .colab-df-convert:hover {\n",
              "      background-color: #E2EBFA;\n",
              "      box-shadow: 0px 1px 2px rgba(60, 64, 67, 0.3), 0px 1px 3px 1px rgba(60, 64, 67, 0.15);\n",
              "      fill: #174EA6;\n",
              "    }\n",
              "\n",
              "    .colab-df-buttons div {\n",
              "      margin-bottom: 4px;\n",
              "    }\n",
              "\n",
              "    [theme=dark] .colab-df-convert {\n",
              "      background-color: #3B4455;\n",
              "      fill: #D2E3FC;\n",
              "    }\n",
              "\n",
              "    [theme=dark] .colab-df-convert:hover {\n",
              "      background-color: #434B5C;\n",
              "      box-shadow: 0px 1px 3px 1px rgba(0, 0, 0, 0.15);\n",
              "      filter: drop-shadow(0px 1px 2px rgba(0, 0, 0, 0.3));\n",
              "      fill: #FFFFFF;\n",
              "    }\n",
              "  </style>\n",
              "\n",
              "    <script>\n",
              "      const buttonEl =\n",
              "        document.querySelector('#df-7f0542b1-f7d1-4387-a7d0-4be6e748332e button.colab-df-convert');\n",
              "      buttonEl.style.display =\n",
              "        google.colab.kernel.accessAllowed ? 'block' : 'none';\n",
              "\n",
              "      async function convertToInteractive(key) {\n",
              "        const element = document.querySelector('#df-7f0542b1-f7d1-4387-a7d0-4be6e748332e');\n",
              "        const dataTable =\n",
              "          await google.colab.kernel.invokeFunction('convertToInteractive',\n",
              "                                                    [key], {});\n",
              "        if (!dataTable) return;\n",
              "\n",
              "        const docLinkHtml = 'Like what you see? Visit the ' +\n",
              "          '<a target=\"_blank\" href=https://colab.research.google.com/notebooks/data_table.ipynb>data table notebook</a>'\n",
              "          + ' to learn more about interactive tables.';\n",
              "        element.innerHTML = '';\n",
              "        dataTable['output_type'] = 'display_data';\n",
              "        await google.colab.output.renderOutput(dataTable, element);\n",
              "        const docLink = document.createElement('div');\n",
              "        docLink.innerHTML = docLinkHtml;\n",
              "        element.appendChild(docLink);\n",
              "      }\n",
              "    </script>\n",
              "  </div>\n",
              "\n",
              "\n",
              "    <div id=\"df-3ad9f777-c5eb-41d0-b1fd-bb0b283ff2d9\">\n",
              "      <button class=\"colab-df-quickchart\" onclick=\"quickchart('df-3ad9f777-c5eb-41d0-b1fd-bb0b283ff2d9')\"\n",
              "                title=\"Suggest charts\"\n",
              "                style=\"display:none;\">\n",
              "\n",
              "<svg xmlns=\"http://www.w3.org/2000/svg\" height=\"24px\"viewBox=\"0 0 24 24\"\n",
              "     width=\"24px\">\n",
              "    <g>\n",
              "        <path d=\"M19 3H5c-1.1 0-2 .9-2 2v14c0 1.1.9 2 2 2h14c1.1 0 2-.9 2-2V5c0-1.1-.9-2-2-2zM9 17H7v-7h2v7zm4 0h-2V7h2v10zm4 0h-2v-4h2v4z\"/>\n",
              "    </g>\n",
              "</svg>\n",
              "      </button>\n",
              "\n",
              "<style>\n",
              "  .colab-df-quickchart {\n",
              "      --bg-color: #E8F0FE;\n",
              "      --fill-color: #1967D2;\n",
              "      --hover-bg-color: #E2EBFA;\n",
              "      --hover-fill-color: #174EA6;\n",
              "      --disabled-fill-color: #AAA;\n",
              "      --disabled-bg-color: #DDD;\n",
              "  }\n",
              "\n",
              "  [theme=dark] .colab-df-quickchart {\n",
              "      --bg-color: #3B4455;\n",
              "      --fill-color: #D2E3FC;\n",
              "      --hover-bg-color: #434B5C;\n",
              "      --hover-fill-color: #FFFFFF;\n",
              "      --disabled-bg-color: #3B4455;\n",
              "      --disabled-fill-color: #666;\n",
              "  }\n",
              "\n",
              "  .colab-df-quickchart {\n",
              "    background-color: var(--bg-color);\n",
              "    border: none;\n",
              "    border-radius: 50%;\n",
              "    cursor: pointer;\n",
              "    display: none;\n",
              "    fill: var(--fill-color);\n",
              "    height: 32px;\n",
              "    padding: 0;\n",
              "    width: 32px;\n",
              "  }\n",
              "\n",
              "  .colab-df-quickchart:hover {\n",
              "    background-color: var(--hover-bg-color);\n",
              "    box-shadow: 0 1px 2px rgba(60, 64, 67, 0.3), 0 1px 3px 1px rgba(60, 64, 67, 0.15);\n",
              "    fill: var(--button-hover-fill-color);\n",
              "  }\n",
              "\n",
              "  .colab-df-quickchart-complete:disabled,\n",
              "  .colab-df-quickchart-complete:disabled:hover {\n",
              "    background-color: var(--disabled-bg-color);\n",
              "    fill: var(--disabled-fill-color);\n",
              "    box-shadow: none;\n",
              "  }\n",
              "\n",
              "  .colab-df-spinner {\n",
              "    border: 2px solid var(--fill-color);\n",
              "    border-color: transparent;\n",
              "    border-bottom-color: var(--fill-color);\n",
              "    animation:\n",
              "      spin 1s steps(1) infinite;\n",
              "  }\n",
              "\n",
              "  @keyframes spin {\n",
              "    0% {\n",
              "      border-color: transparent;\n",
              "      border-bottom-color: var(--fill-color);\n",
              "      border-left-color: var(--fill-color);\n",
              "    }\n",
              "    20% {\n",
              "      border-color: transparent;\n",
              "      border-left-color: var(--fill-color);\n",
              "      border-top-color: var(--fill-color);\n",
              "    }\n",
              "    30% {\n",
              "      border-color: transparent;\n",
              "      border-left-color: var(--fill-color);\n",
              "      border-top-color: var(--fill-color);\n",
              "      border-right-color: var(--fill-color);\n",
              "    }\n",
              "    40% {\n",
              "      border-color: transparent;\n",
              "      border-right-color: var(--fill-color);\n",
              "      border-top-color: var(--fill-color);\n",
              "    }\n",
              "    60% {\n",
              "      border-color: transparent;\n",
              "      border-right-color: var(--fill-color);\n",
              "    }\n",
              "    80% {\n",
              "      border-color: transparent;\n",
              "      border-right-color: var(--fill-color);\n",
              "      border-bottom-color: var(--fill-color);\n",
              "    }\n",
              "    90% {\n",
              "      border-color: transparent;\n",
              "      border-bottom-color: var(--fill-color);\n",
              "    }\n",
              "  }\n",
              "</style>\n",
              "\n",
              "      <script>\n",
              "        async function quickchart(key) {\n",
              "          const quickchartButtonEl =\n",
              "            document.querySelector('#' + key + ' button');\n",
              "          quickchartButtonEl.disabled = true;  // To prevent multiple clicks.\n",
              "          quickchartButtonEl.classList.add('colab-df-spinner');\n",
              "          try {\n",
              "            const charts = await google.colab.kernel.invokeFunction(\n",
              "                'suggestCharts', [key], {});\n",
              "          } catch (error) {\n",
              "            console.error('Error during call to suggestCharts:', error);\n",
              "          }\n",
              "          quickchartButtonEl.classList.remove('colab-df-spinner');\n",
              "          quickchartButtonEl.classList.add('colab-df-quickchart-complete');\n",
              "        }\n",
              "        (() => {\n",
              "          let quickchartButtonEl =\n",
              "            document.querySelector('#df-3ad9f777-c5eb-41d0-b1fd-bb0b283ff2d9 button');\n",
              "          quickchartButtonEl.style.display =\n",
              "            google.colab.kernel.accessAllowed ? 'block' : 'none';\n",
              "        })();\n",
              "      </script>\n",
              "    </div>\n",
              "\n",
              "  <div id=\"id_79e906f5-a6a6-4a5a-8e01-2ebad40e5cdb\">\n",
              "    <style>\n",
              "      .colab-df-generate {\n",
              "        background-color: #E8F0FE;\n",
              "        border: none;\n",
              "        border-radius: 50%;\n",
              "        cursor: pointer;\n",
              "        display: none;\n",
              "        fill: #1967D2;\n",
              "        height: 32px;\n",
              "        padding: 0 0 0 0;\n",
              "        width: 32px;\n",
              "      }\n",
              "\n",
              "      .colab-df-generate:hover {\n",
              "        background-color: #E2EBFA;\n",
              "        box-shadow: 0px 1px 2px rgba(60, 64, 67, 0.3), 0px 1px 3px 1px rgba(60, 64, 67, 0.15);\n",
              "        fill: #174EA6;\n",
              "      }\n",
              "\n",
              "      [theme=dark] .colab-df-generate {\n",
              "        background-color: #3B4455;\n",
              "        fill: #D2E3FC;\n",
              "      }\n",
              "\n",
              "      [theme=dark] .colab-df-generate:hover {\n",
              "        background-color: #434B5C;\n",
              "        box-shadow: 0px 1px 3px 1px rgba(0, 0, 0, 0.15);\n",
              "        filter: drop-shadow(0px 1px 2px rgba(0, 0, 0, 0.3));\n",
              "        fill: #FFFFFF;\n",
              "      }\n",
              "    </style>\n",
              "    <button class=\"colab-df-generate\" onclick=\"generateWithVariable('df_model_sorted')\"\n",
              "            title=\"Generate code using this dataframe.\"\n",
              "            style=\"display:none;\">\n",
              "\n",
              "  <svg xmlns=\"http://www.w3.org/2000/svg\" height=\"24px\"viewBox=\"0 0 24 24\"\n",
              "       width=\"24px\">\n",
              "    <path d=\"M7,19H8.4L18.45,9,17,7.55,7,17.6ZM5,21V16.75L18.45,3.32a2,2,0,0,1,2.83,0l1.4,1.43a1.91,1.91,0,0,1,.58,1.4,1.91,1.91,0,0,1-.58,1.4L9.25,21ZM18.45,9,17,7.55Zm-12,3A5.31,5.31,0,0,0,4.9,8.1,5.31,5.31,0,0,0,1,6.5,5.31,5.31,0,0,0,4.9,4.9,5.31,5.31,0,0,0,6.5,1,5.31,5.31,0,0,0,8.1,4.9,5.31,5.31,0,0,0,12,6.5,5.46,5.46,0,0,0,6.5,12Z\"/>\n",
              "  </svg>\n",
              "    </button>\n",
              "    <script>\n",
              "      (() => {\n",
              "      const buttonEl =\n",
              "        document.querySelector('#id_79e906f5-a6a6-4a5a-8e01-2ebad40e5cdb button.colab-df-generate');\n",
              "      buttonEl.style.display =\n",
              "        google.colab.kernel.accessAllowed ? 'block' : 'none';\n",
              "\n",
              "      buttonEl.onclick = () => {\n",
              "        google.colab.notebook.generateWithVariable('df_model_sorted');\n",
              "      }\n",
              "      })();\n",
              "    </script>\n",
              "  </div>\n",
              "\n",
              "    </div>\n",
              "  </div>\n"
            ],
            "application/vnd.google.colaboratory.intrinsic+json": {
              "type": "dataframe",
              "variable_name": "df_model_sorted",
              "summary": "{\n  \"name\": \"df_model_sorted\",\n  \"rows\": 8,\n  \"fields\": [\n    {\n      \"column\": \"Model\",\n      \"properties\": {\n        \"dtype\": \"string\",\n        \"num_unique_values\": 8,\n        \"samples\": [\n          \"Logistic Regression\",\n          \"Bagging\",\n          \"AdaBoost\"\n        ],\n        \"semantic_type\": \"\",\n        \"description\": \"\"\n      }\n    },\n    {\n      \"column\": \"Accuracy\",\n      \"properties\": {\n        \"dtype\": \"number\",\n        \"std\": 0.07103122787828516,\n        \"min\": 0.4230769230769231,\n        \"max\": 0.6538461538461539,\n        \"num_unique_values\": 5,\n        \"samples\": [\n          0.6153846153846154,\n          0.4230769230769231,\n          0.5769230769230769\n        ],\n        \"semantic_type\": \"\",\n        \"description\": \"\"\n      }\n    }\n  ]\n}"
            }
          },
          "metadata": {},
          "execution_count": 9
        }
      ]
    },
    {
      "cell_type": "markdown",
      "source": [
        "###### **Observations**<br>\n",
        "All models achieved an accuracy lowes than 73%, but AdaBoost delivered the highest accuracy. Thus, some additional tuning is required to improve this model (e.g. feature selection, PCA, etc)."
      ],
      "metadata": {
        "id": "Ao-A3aPvIT_z"
      }
    },
    {
      "cell_type": "markdown",
      "source": [
        "<a name=\"c) Evaluating the model\"></a>\n",
        "###### **c) Evaluating the model**"
      ],
      "metadata": {
        "id": "i1nNxhQDFVJA"
      }
    },
    {
      "cell_type": "code",
      "source": [
        "# Extract feature importances and sort by importance\n",
        "importance_df = pd.DataFrame({\n",
        "    'Feature': X_train.columns,\n",
        "    'Importance': models['AdaBoost'].feature_importances_\n",
        "}).sort_values(by='Importance', ascending=False)\n",
        "\n",
        "# Add percentage column to the DataFrame\n",
        "print(importance_df[['Feature', 'Importance']])\n",
        "\n",
        "# Plot\n",
        "plt.figure(figsize=(5, 3))\n",
        "plt.bar(importance_df['Feature'], importance_df['Importance'], color='skyblue')\n",
        "plt.title(\"Feature Importance\")\n",
        "plt.xlabel(\"Features\")\n",
        "plt.ylabel(\"Importance\")\n",
        "plt.tight_layout()\n",
        "plt.show()"
      ],
      "metadata": {
        "colab": {
          "base_uri": "https://localhost:8080/",
          "height": 434
        },
        "id": "gzEzH-_kFV7Q",
        "outputId": "eefebfa4-b146-47ec-81f6-f287d0c7d525"
      },
      "execution_count": null,
      "outputs": [
        {
          "output_type": "stream",
          "name": "stdout",
          "text": [
            "  Feature  Importance\n",
            "0      X1    0.435271\n",
            "2      X3    0.419934\n",
            "5      X6    0.144795\n",
            "1      X2    0.000000\n",
            "3      X4    0.000000\n",
            "4      X5    0.000000\n"
          ]
        },
        {
          "output_type": "display_data",
          "data": {
            "text/plain": [
              "<Figure size 500x300 with 1 Axes>"
            ],
            "image/png": "[encoded data removed]"
          },
          "metadata": {}
        }
      ]
    },
    {
      "cell_type": "code",
      "source": [
        "# Analyze learning curve of train vs valid scores\n",
        "from sklearn.model_selection import learning_curve\n",
        "import matplotlib.pyplot as plt\n",
        "\n",
        "train_sizes, train_scores, valid_scores = learning_curve(models['AdaBoost'], X_train, y_train, cv=5)\n",
        "plt.plot(train_sizes, train_scores.mean(axis=1), label=\"Training score\")\n",
        "plt.plot(train_sizes, valid_scores.mean(axis=1), label=\"Validation score\")\n",
        "plt.xlabel(\"Training Size\")\n",
        "plt.ylabel(\"Score\")\n",
        "plt.title(\"Learning Curve for AdaBoost\")\n",
        "plt.legend()\n",
        "plt.show()"
      ],
      "metadata": {
        "colab": {
          "base_uri": "https://localhost:8080/",
          "height": 472
        },
        "id": "EVGTk7E6MC4w",
        "outputId": "841dfb70-d099-4f07-ad3d-9c77e2df4e4e"
      },
      "execution_count": null,
      "outputs": [
        {
          "output_type": "display_data",
          "data": {
            "text/plain": [
              "<Figure size 640x480 with 1 Axes>"
            ],
            "image/png": "[encoded data removed]"
          },
          "metadata": {}
        }
      ]
    },
    {
      "cell_type": "markdown",
      "source": [
        "###### **Observations**\n",
        "As the training line is persistenly higher than the validation score -never converge- it is often a sign of overfitting.\n",
        "Note that the main reason of this issue might be the size of the dataset. Small datasets are prone to overfitting because the model can easily memorize the training data, resulting in poor generalization to new data."
      ],
      "metadata": {
        "id": "SL0YvGDNOvgu"
      }
    },
    {
      "cell_type": "markdown",
      "source": [
        "<a name=\"d) Improving the Selected Model\"></a>\n",
        "###### **d) Improving the Selected Model**"
      ],
      "metadata": {
        "id": "zLgog0MPrWXf"
      }
    },
    {
      "cell_type": "code",
      "source": [
        "# Improving Accuracy of the AdaBoost Model\n",
        "\n",
        "feature_names = X.columns\n",
        "\n",
        "# Train and test data\n",
        "X_train, X_test, y_train, y_test = train_test_split(X, y, test_size=0.2, random_state=0)\n",
        "\n",
        "selector = SelectFromModel(\n",
        "    AdaBoostClassifier(estimator=DecisionTreeClassifier(max_depth=3),\n",
        "                       n_estimators=70,\n",
        "                      random_state = 100,\n",
        "                    learning_rate = 0.01),\n",
        "    threshold='mean'\n",
        ")\n",
        "\n",
        "# Final AdaBoost model with fixed parameters\n",
        "adaboost = AdaBoostClassifier(\n",
        "    estimator=DecisionTreeClassifier(max_depth=2),\n",
        "    n_estimators=70,\n",
        "    learning_rate=0.01,\n",
        "    random_state=100\n",
        ")\n",
        "\n",
        "# Define pipeline\n",
        "pipeline = Pipeline([\n",
        "   ('feature_selection', selector),\n",
        "    ('adaboost', adaboost)\n",
        "])\n",
        "\n",
        "# Train and evaluate\n",
        "pipeline.fit(X_train, y_train)\n",
        "y_pred = pipeline.predict(X_test)\n",
        "accuracy = accuracy_score(y_test, y_pred)\n",
        "\n",
        "print(f\"Test Accuracy: {accuracy:.4f}\")\n",
        "\n",
        "# Show selected features\n",
        "mask = pipeline.named_steps['feature_selection'].get_support()\n",
        "selected_features = feature_names[mask]\n",
        "print(\"Selected Features:\")\n",
        "print(selected_features)"
      ],
      "metadata": {
        "id": "tJp2rm44ITuV",
        "colab": {
          "base_uri": "https://localhost:8080/"
        },
        "outputId": "fc91751a-da62-44f5-f40d-5a43b606259b"
      },
      "execution_count": null,
      "outputs": [
        {
          "output_type": "stream",
          "name": "stdout",
          "text": [
            "Test Accuracy: 0.7308\n",
            "Selected Features:\n",
            "Index(['X1', 'X3', 'X6'], dtype='object')\n"
          ]
        }
      ]
    },
    {
      "cell_type": "markdown",
      "source": [
        "###### **Observations**\n",
        "The Accuracy score of the AdaBoost model increased up to 73% after adding Decision Tree as estimator and apply the feature selecttion technique. As a result, questions X1 (Order delivered on time), X3 (Ordered everything I wanted), and X6 (The Add made my ordering preocess easy) were the most importants among all six questions."
      ],
      "metadata": {
        "id": "c7QHeupT7T0G"
      }
    },
    {
      "cell_type": "markdown",
      "source": [
        "<a name=\"e) Evaluating Predicted Values\"></a>\n",
        "###### <b> e) Evaluating Predicted Values</b>"
      ],
      "metadata": {
        "id": "g3zZ1ZNnkzI-"
      }
    },
    {
      "cell_type": "code",
      "source": [
        "# -------- Classification Report and Confusion Matrix --------\n",
        "print(classification_report(y_test, y_pred))\n",
        "\n",
        "cm = confusion_matrix(y_test, y_pred)\n",
        "disp = ConfusionMatrixDisplay(confusion_matrix=cm)\n",
        "disp.plot(cmap='Blues')"
      ],
      "metadata": {
        "colab": {
          "base_uri": "https://localhost:8080/",
          "height": 637
        },
        "id": "77UUwg_IFh10",
        "outputId": "b6ac2fea-c4dc-4eda-9a8c-8ffde797517f"
      },
      "execution_count": null,
      "outputs": [
        {
          "output_type": "stream",
          "name": "stdout",
          "text": [
            "              precision    recall  f1-score   support\n",
            "\n",
            "           0       0.88      0.54      0.67        13\n",
            "           1       0.67      0.92      0.77        13\n",
            "\n",
            "    accuracy                           0.73        26\n",
            "   macro avg       0.77      0.73      0.72        26\n",
            "weighted avg       0.77      0.73      0.72        26\n",
            "\n"
          ]
        },
        {
          "output_type": "execute_result",
          "data": {
            "text/plain": [
              "<sklearn.metrics._plot.confusion_matrix.ConfusionMatrixDisplay at 0x7cad719683d0>"
            ]
          },
          "metadata": {},
          "execution_count": 120
        },
        {
          "output_type": "display_data",
          "data": {
            "text/plain": [
              "<Figure size 640x480 with 2 Axes>"
            ],
            "image/png": "[encoded data removed]"
          },
          "metadata": {}
        }
      ]
    },
    {
      "cell_type": "markdown",
      "source": [
        " **Confusion Matrix Interpretation** <br>\n",
        "       \n",
        "|       |   0   |   1     |    \n",
        " -------|-------|-------- |\n",
        "|   0   |   TN |    FP    |\n",
        "|   1   |   FN |    TP    |\n",
        "\n",
        "Classes: 0 (unhappy) and 1 (happy) customers <br>\n",
        "**TN (True Negative)**: Correctly predicted unhappy vs. actual unhappy <br>\n",
        "**FP (False Positive)**: Incorrectly predicted happy vs. actual unhappy <br>\n",
        "**FN (False Negative)**: Incorrectly predicted unhappy vs. actual happy <br>\n",
        "**TP (True Positive)**: Correctly predicted happy vs. actual happy <br>\n",
        "\n",
        "FP might represent a cost for the company, because this can increase the churn rate."
      ],
      "metadata": {
        "id": "p6bHV_MV9Fe5"
      }
    },
    {
      "cell_type": "markdown",
      "source": [
        "<a name=\"f) Saving Predicted Values\"></a>\n",
        "###### <b>**f) Saving Predicted Values**</b>"
      ],
      "metadata": {
        "id": "ASLIewbBP-C0"
      }
    },
    {
      "cell_type": "code",
      "source": [
        "# Create a DataFrame for saving the results\n",
        "\n",
        "results_data = pd.DataFrame({\n",
        "    'true_label': y_test,\n",
        "    'predicted_label': y_pred\n",
        "})\n",
        "\n",
        "# Add predicted probabilities if you generated them\n",
        "# y_pred_proba = pipeline.predict_proba(X_test)[:, 1]\n",
        "# results_data['predicted_probability_of_1'] = y_pred_proba\n",
        "\n",
        "# Save the DataFrame to a CSV file\n",
        "cspred = '/content/drive/MyDrive/customer_satisfaction_predictions.csv'\n",
        "results_data.to_csv(cspred, index=False) # index=False prevents writing the DataFrame index as a column\n",
        "\n",
        "print(f\"\\nFinal predicted values saved to {cspred}\")"
      ],
      "metadata": {
        "id": "O1C3zZ8DJGWp",
        "colab": {
          "base_uri": "https://localhost:8080/"
        },
        "outputId": "1ec348e4-fcf5-4cd6-a64c-08ce3da448d5"
      },
      "execution_count": null,
      "outputs": [
        {
          "output_type": "stream",
          "name": "stdout",
          "text": [
            "\n",
            "Final predicted values saved to /content/drive/MyDrive/customer_satisfaction_predictions.csv\n"
          ]
        }
      ]
    },
    {
      "cell_type": "markdown",
      "source": [
        "<a name=\"Final Remarks\"></a>\n",
        "#### <b> 5. Final Remarks</b>\n",
        "*   The **AdaBoost model** achieved the highest accuracy of 73%, tests like PCA, combining the model with Randomforest of another Boosting method did not increase the final score.\n",
        "*   Although this model performed better compared to the other models, 73% is still a low score to increase effectively satisfaction of customers.\n",
        "* Further investigation or more data is required to improve prediction rate."
      ],
      "metadata": {
        "id": "EnlTAsX6Rbse"
      }
    }
  ]
}